{
 "cells": [
  {
   "cell_type": "markdown",
   "metadata": {},
   "source": [
    "<h3>1. Import module yang dibutuhkan</h3>"
   ]
  },
  {
   "cell_type": "code",
   "execution_count": 19,
   "metadata": {},
   "outputs": [],
   "source": [
    "from sklearn.model_selection import train_test_split\n",
    "from sklearn.preprocessing import LabelEncoder\n",
    "from sklearn.metrics import classification_report\n",
    "from tensorflow.keras.models import Sequential\n",
    "from tensorflow.keras.layers import Flatten, Dense\n",
    "from tensorflow.keras.optimizers import SGD\n",
    "import numpy as np\n",
    "import cv2\n",
    "import glob\n",
    "import matplotlib.pyplot as plt"
   ]
  },
  {
   "cell_type": "markdown",
   "metadata": {},
   "source": [
    "<h3>2. Load Dataset</h3>"
   ]
  },
  {
   "cell_type": "code",
   "execution_count": 20,
   "metadata": {},
   "outputs": [],
   "source": [
    "imagePaths = 'dataset\\\\animal_elw\\\\'\n",
    "label_list = ['elephant', 'lion']\n",
    "data = []\n",
    "labels = []"
   ]
  },
  {
   "cell_type": "code",
   "execution_count": 21,
   "metadata": {},
   "outputs": [],
   "source": [
    "for label in label_list:\n",
    "    for imagePath in glob.glob(imagePaths+label+'\\\\*.jpg'):\n",
    "        #print(imagePath)\n",
    "        image = cv2.imread(imagePath)\n",
    "        image = cv2.resize(image, (32, 32))\n",
    "        data.append(image)\n",
    "        labels.append(label)"
   ]
  },
  {
   "cell_type": "code",
   "execution_count": 22,
   "metadata": {},
   "outputs": [
    {
     "data": {
      "text/plain": [
       "(200, 32, 32, 3)"
      ]
     },
     "execution_count": 22,
     "metadata": {},
     "output_type": "execute_result"
    }
   ],
   "source": [
    "np.array(data).shape"
   ]
  },
  {
   "cell_type": "markdown",
   "metadata": {},
   "source": [
    "<h3>3. Data Preprocessing</h3>"
   ]
  },
  {
   "cell_type": "code",
   "execution_count": 23,
   "metadata": {},
   "outputs": [],
   "source": [
    "# ubah type data dari list menjadi array\n",
    "# ubah nilai dari tiap pixel menjadi range [0..1]\n",
    "data = np.array(data, dtype='float') / 255.0\n",
    "labels = np.array(labels)"
   ]
  },
  {
   "cell_type": "code",
   "execution_count": 24,
   "metadata": {},
   "outputs": [
    {
     "name": "stdout",
     "output_type": "stream",
     "text": [
      "['elephant' 'elephant' 'elephant' 'elephant' 'elephant' 'elephant'\n",
      " 'elephant' 'elephant' 'elephant' 'elephant' 'elephant' 'elephant'\n",
      " 'elephant' 'elephant' 'elephant' 'elephant' 'elephant' 'elephant'\n",
      " 'elephant' 'elephant' 'elephant' 'elephant' 'elephant' 'elephant'\n",
      " 'elephant' 'elephant' 'elephant' 'elephant' 'elephant' 'elephant'\n",
      " 'elephant' 'elephant' 'elephant' 'elephant' 'elephant' 'elephant'\n",
      " 'elephant' 'elephant' 'elephant' 'elephant' 'elephant' 'elephant'\n",
      " 'elephant' 'elephant' 'elephant' 'elephant' 'elephant' 'elephant'\n",
      " 'elephant' 'elephant' 'elephant' 'elephant' 'elephant' 'elephant'\n",
      " 'elephant' 'elephant' 'elephant' 'elephant' 'elephant' 'elephant'\n",
      " 'elephant' 'elephant' 'elephant' 'elephant' 'elephant' 'elephant'\n",
      " 'elephant' 'elephant' 'elephant' 'elephant' 'elephant' 'elephant'\n",
      " 'elephant' 'elephant' 'elephant' 'elephant' 'elephant' 'elephant'\n",
      " 'elephant' 'elephant' 'elephant' 'elephant' 'elephant' 'elephant'\n",
      " 'elephant' 'elephant' 'elephant' 'elephant' 'elephant' 'elephant'\n",
      " 'elephant' 'elephant' 'elephant' 'elephant' 'elephant' 'elephant'\n",
      " 'elephant' 'elephant' 'elephant' 'elephant' 'lion' 'lion' 'lion' 'lion'\n",
      " 'lion' 'lion' 'lion' 'lion' 'lion' 'lion' 'lion' 'lion' 'lion' 'lion'\n",
      " 'lion' 'lion' 'lion' 'lion' 'lion' 'lion' 'lion' 'lion' 'lion' 'lion'\n",
      " 'lion' 'lion' 'lion' 'lion' 'lion' 'lion' 'lion' 'lion' 'lion' 'lion'\n",
      " 'lion' 'lion' 'lion' 'lion' 'lion' 'lion' 'lion' 'lion' 'lion' 'lion'\n",
      " 'lion' 'lion' 'lion' 'lion' 'lion' 'lion' 'lion' 'lion' 'lion' 'lion'\n",
      " 'lion' 'lion' 'lion' 'lion' 'lion' 'lion' 'lion' 'lion' 'lion' 'lion'\n",
      " 'lion' 'lion' 'lion' 'lion' 'lion' 'lion' 'lion' 'lion' 'lion' 'lion'\n",
      " 'lion' 'lion' 'lion' 'lion' 'lion' 'lion' 'lion' 'lion' 'lion' 'lion'\n",
      " 'lion' 'lion' 'lion' 'lion' 'lion' 'lion' 'lion' 'lion' 'lion' 'lion'\n",
      " 'lion' 'lion' 'lion' 'lion' 'lion' 'lion']\n"
     ]
    }
   ],
   "source": [
    "print(labels)"
   ]
  },
  {
   "cell_type": "code",
   "execution_count": 25,
   "metadata": {},
   "outputs": [
    {
     "name": "stdout",
     "output_type": "stream",
     "text": [
      "[0 0 0 0 0 0 0 0 0 0 0 0 0 0 0 0 0 0 0 0 0 0 0 0 0 0 0 0 0 0 0 0 0 0 0 0 0\n",
      " 0 0 0 0 0 0 0 0 0 0 0 0 0 0 0 0 0 0 0 0 0 0 0 0 0 0 0 0 0 0 0 0 0 0 0 0 0\n",
      " 0 0 0 0 0 0 0 0 0 0 0 0 0 0 0 0 0 0 0 0 0 0 0 0 0 0 1 1 1 1 1 1 1 1 1 1 1\n",
      " 1 1 1 1 1 1 1 1 1 1 1 1 1 1 1 1 1 1 1 1 1 1 1 1 1 1 1 1 1 1 1 1 1 1 1 1 1\n",
      " 1 1 1 1 1 1 1 1 1 1 1 1 1 1 1 1 1 1 1 1 1 1 1 1 1 1 1 1 1 1 1 1 1 1 1 1 1\n",
      " 1 1 1 1 1 1 1 1 1 1 1 1 1 1 1]\n"
     ]
    }
   ],
   "source": [
    "# ubah nilai dari labels menjadi binary\n",
    "lb = LabelEncoder()\n",
    "labels = lb.fit_transform(labels)\n",
    "print(labels)"
   ]
  },
  {
   "cell_type": "markdown",
   "metadata": {},
   "source": [
    "<h3>4. Split Dataset</h3>"
   ]
  },
  {
   "cell_type": "code",
   "execution_count": 26,
   "metadata": {},
   "outputs": [],
   "source": [
    "x_train, x_test, y_train, y_test = train_test_split(data, labels, test_size=0.2, random_state=42)"
   ]
  },
  {
   "cell_type": "code",
   "execution_count": 27,
   "metadata": {},
   "outputs": [
    {
     "name": "stdout",
     "output_type": "stream",
     "text": [
      "Ukuran data train = (160, 32, 32, 3)\n",
      "Ukuran data test = (40, 32, 32, 3)\n"
     ]
    }
   ],
   "source": [
    "print('Ukuran data train =', x_train.shape)\n",
    "print('Ukuran data test =', x_test.shape)"
   ]
  },
  {
   "cell_type": "markdown",
   "metadata": {},
   "source": [
    "<h3>5. Build ANN Architecture</h3>"
   ]
  },
  {
   "cell_type": "code",
   "execution_count": 28,
   "metadata": {},
   "outputs": [],
   "source": [
    "model = Sequential()\n",
    "model.add(Flatten(input_shape=(32,32,3)))\n",
    "model.add(Dense(1024, activation=\"relu\"))\n",
    "model.add(Dense(1024, activation=\"relu\"))\n",
    "model.add(Dense(1, activation=\"sigmoid\"))"
   ]
  },
  {
   "cell_type": "code",
   "execution_count": 29,
   "metadata": {},
   "outputs": [
    {
     "name": "stdout",
     "output_type": "stream",
     "text": [
      "Model: \"sequential_1\"\n",
      "_________________________________________________________________\n",
      " Layer (type)                Output Shape              Param #   \n",
      "=================================================================\n",
      " flatten_1 (Flatten)         (None, 3072)              0         \n",
      "                                                                 \n",
      " dense_3 (Dense)             (None, 1024)              3146752   \n",
      "                                                                 \n",
      " dense_4 (Dense)             (None, 1024)              1049600   \n",
      "                                                                 \n",
      " dense_5 (Dense)             (None, 1)                 1025      \n",
      "                                                                 \n",
      "=================================================================\n",
      "Total params: 4,197,377\n",
      "Trainable params: 4,197,377\n",
      "Non-trainable params: 0\n",
      "_________________________________________________________________\n"
     ]
    }
   ],
   "source": [
    "model.summary()"
   ]
  },
  {
   "cell_type": "code",
   "execution_count": 30,
   "metadata": {},
   "outputs": [],
   "source": [
    "# tentukan hyperparameter\n",
    "lr = 0.01\n",
    "max_epochs = 100\n",
    "opt_funct = SGD(learning_rate=lr)"
   ]
  },
  {
   "cell_type": "code",
   "execution_count": 31,
   "metadata": {},
   "outputs": [],
   "source": [
    "# compile arsitektur yang telah dibuat\n",
    "model.compile(loss = 'binary_crossentropy', \n",
    "              optimizer = opt_funct, \n",
    "              metrics = ['accuracy'])"
   ]
  },
  {
   "cell_type": "markdown",
   "metadata": {},
   "source": [
    "<h3>6. Train Model</h3>"
   ]
  },
  {
   "cell_type": "code",
   "execution_count": 32,
   "metadata": {},
   "outputs": [
    {
     "name": "stdout",
     "output_type": "stream",
     "text": [
      "Epoch 1/100\n",
      "5/5 [==============================] - 1s 104ms/step - loss: 0.6846 - accuracy: 0.5437 - val_loss: 0.6227 - val_accuracy: 0.5500\n",
      "Epoch 2/100\n",
      "5/5 [==============================] - 0s 35ms/step - loss: 0.6351 - accuracy: 0.6375 - val_loss: 0.5961 - val_accuracy: 0.6750\n",
      "Epoch 3/100\n",
      "5/5 [==============================] - 0s 36ms/step - loss: 0.6234 - accuracy: 0.6438 - val_loss: 0.6931 - val_accuracy: 0.5250\n",
      "Epoch 4/100\n",
      "5/5 [==============================] - 0s 37ms/step - loss: 0.6298 - accuracy: 0.6625 - val_loss: 0.6218 - val_accuracy: 0.6750\n",
      "Epoch 5/100\n",
      "5/5 [==============================] - 0s 37ms/step - loss: 0.5523 - accuracy: 0.7688 - val_loss: 0.6016 - val_accuracy: 0.6750\n",
      "Epoch 6/100\n",
      "5/5 [==============================] - 0s 38ms/step - loss: 0.5269 - accuracy: 0.8188 - val_loss: 0.5340 - val_accuracy: 0.8250\n",
      "Epoch 7/100\n",
      "5/5 [==============================] - 0s 38ms/step - loss: 0.5467 - accuracy: 0.7188 - val_loss: 0.6572 - val_accuracy: 0.6250\n",
      "Epoch 8/100\n",
      "5/5 [==============================] - 0s 38ms/step - loss: 0.5781 - accuracy: 0.6625 - val_loss: 0.5404 - val_accuracy: 0.7250\n",
      "Epoch 9/100\n",
      "5/5 [==============================] - 0s 38ms/step - loss: 0.5743 - accuracy: 0.6750 - val_loss: 0.5976 - val_accuracy: 0.6750\n",
      "Epoch 10/100\n",
      "5/5 [==============================] - 0s 39ms/step - loss: 0.5106 - accuracy: 0.7563 - val_loss: 0.5022 - val_accuracy: 0.8500\n",
      "Epoch 11/100\n",
      "5/5 [==============================] - 0s 34ms/step - loss: 0.4591 - accuracy: 0.8438 - val_loss: 0.6334 - val_accuracy: 0.6750\n",
      "Epoch 12/100\n",
      "5/5 [==============================] - 0s 39ms/step - loss: 0.5389 - accuracy: 0.7500 - val_loss: 0.5464 - val_accuracy: 0.7250\n",
      "Epoch 13/100\n",
      "5/5 [==============================] - 0s 39ms/step - loss: 0.4455 - accuracy: 0.8375 - val_loss: 0.5957 - val_accuracy: 0.6750\n",
      "Epoch 14/100\n",
      "5/5 [==============================] - 0s 39ms/step - loss: 0.5190 - accuracy: 0.7375 - val_loss: 0.4913 - val_accuracy: 0.7500\n",
      "Epoch 15/100\n",
      "5/5 [==============================] - 0s 36ms/step - loss: 0.4269 - accuracy: 0.8375 - val_loss: 0.5036 - val_accuracy: 0.7000\n",
      "Epoch 16/100\n",
      "5/5 [==============================] - 0s 38ms/step - loss: 0.4028 - accuracy: 0.8438 - val_loss: 0.5846 - val_accuracy: 0.6750\n",
      "Epoch 17/100\n",
      "5/5 [==============================] - 0s 39ms/step - loss: 0.4188 - accuracy: 0.8438 - val_loss: 0.5082 - val_accuracy: 0.7000\n",
      "Epoch 18/100\n",
      "5/5 [==============================] - 0s 34ms/step - loss: 0.3875 - accuracy: 0.8750 - val_loss: 0.4723 - val_accuracy: 0.8000\n",
      "Epoch 19/100\n",
      "5/5 [==============================] - 0s 38ms/step - loss: 0.4721 - accuracy: 0.7500 - val_loss: 0.6347 - val_accuracy: 0.6500\n",
      "Epoch 20/100\n",
      "5/5 [==============================] - 0s 47ms/step - loss: 0.4126 - accuracy: 0.8313 - val_loss: 0.4449 - val_accuracy: 0.8000\n",
      "Epoch 21/100\n",
      "5/5 [==============================] - 0s 38ms/step - loss: 0.3705 - accuracy: 0.8687 - val_loss: 0.5514 - val_accuracy: 0.7000\n",
      "Epoch 22/100\n",
      "5/5 [==============================] - 0s 40ms/step - loss: 0.3521 - accuracy: 0.9187 - val_loss: 0.4486 - val_accuracy: 0.7750\n",
      "Epoch 23/100\n",
      "5/5 [==============================] - 0s 38ms/step - loss: 0.4354 - accuracy: 0.7625 - val_loss: 0.5374 - val_accuracy: 0.7500\n",
      "Epoch 24/100\n",
      "5/5 [==============================] - 0s 34ms/step - loss: 0.4103 - accuracy: 0.7812 - val_loss: 0.5180 - val_accuracy: 0.7250\n",
      "Epoch 25/100\n",
      "5/5 [==============================] - 0s 36ms/step - loss: 0.3364 - accuracy: 0.9062 - val_loss: 0.4333 - val_accuracy: 0.7750\n",
      "Epoch 26/100\n",
      "5/5 [==============================] - 0s 35ms/step - loss: 0.3824 - accuracy: 0.7875 - val_loss: 0.6504 - val_accuracy: 0.6500\n",
      "Epoch 27/100\n",
      "5/5 [==============================] - 0s 36ms/step - loss: 0.4810 - accuracy: 0.7563 - val_loss: 0.4474 - val_accuracy: 0.8000\n",
      "Epoch 28/100\n",
      "5/5 [==============================] - 0s 33ms/step - loss: 0.3111 - accuracy: 0.9000 - val_loss: 0.4228 - val_accuracy: 0.7750\n",
      "Epoch 29/100\n",
      "5/5 [==============================] - 0s 33ms/step - loss: 0.3226 - accuracy: 0.9062 - val_loss: 0.4785 - val_accuracy: 0.8000\n",
      "Epoch 30/100\n",
      "5/5 [==============================] - 0s 33ms/step - loss: 0.3358 - accuracy: 0.8813 - val_loss: 0.5417 - val_accuracy: 0.7000\n",
      "Epoch 31/100\n",
      "5/5 [==============================] - 0s 39ms/step - loss: 0.6644 - accuracy: 0.6313 - val_loss: 0.4297 - val_accuracy: 0.8500\n",
      "Epoch 32/100\n",
      "5/5 [==============================] - 0s 36ms/step - loss: 0.3085 - accuracy: 0.9125 - val_loss: 0.4517 - val_accuracy: 0.7500\n",
      "Epoch 33/100\n",
      "5/5 [==============================] - 0s 39ms/step - loss: 0.2806 - accuracy: 0.9500 - val_loss: 0.4034 - val_accuracy: 0.8250\n",
      "Epoch 34/100\n",
      "5/5 [==============================] - 0s 37ms/step - loss: 0.2715 - accuracy: 0.9438 - val_loss: 0.4126 - val_accuracy: 0.7750\n",
      "Epoch 35/100\n",
      "5/5 [==============================] - 0s 34ms/step - loss: 0.3772 - accuracy: 0.8188 - val_loss: 0.4738 - val_accuracy: 0.7250\n",
      "Epoch 36/100\n",
      "5/5 [==============================] - 0s 37ms/step - loss: 0.3432 - accuracy: 0.8250 - val_loss: 0.4224 - val_accuracy: 0.7750\n",
      "Epoch 37/100\n",
      "5/5 [==============================] - 0s 35ms/step - loss: 0.2815 - accuracy: 0.9000 - val_loss: 0.4108 - val_accuracy: 0.7750\n",
      "Epoch 38/100\n",
      "5/5 [==============================] - 0s 38ms/step - loss: 0.2857 - accuracy: 0.9125 - val_loss: 0.4100 - val_accuracy: 0.8250\n",
      "Epoch 39/100\n",
      "5/5 [==============================] - 0s 39ms/step - loss: 0.2905 - accuracy: 0.8813 - val_loss: 0.4012 - val_accuracy: 0.7750\n",
      "Epoch 40/100\n",
      "5/5 [==============================] - 0s 37ms/step - loss: 0.2482 - accuracy: 0.9375 - val_loss: 0.4308 - val_accuracy: 0.8000\n",
      "Epoch 41/100\n",
      "5/5 [==============================] - 0s 39ms/step - loss: 0.4976 - accuracy: 0.7125 - val_loss: 0.6680 - val_accuracy: 0.6500\n",
      "Epoch 42/100\n",
      "5/5 [==============================] - 0s 38ms/step - loss: 0.4706 - accuracy: 0.6938 - val_loss: 0.4262 - val_accuracy: 0.7750\n",
      "Epoch 43/100\n",
      "5/5 [==============================] - 0s 37ms/step - loss: 0.2491 - accuracy: 0.9000 - val_loss: 0.3793 - val_accuracy: 0.8000\n",
      "Epoch 44/100\n",
      "5/5 [==============================] - 0s 37ms/step - loss: 0.2476 - accuracy: 0.9563 - val_loss: 0.3785 - val_accuracy: 0.8500\n",
      "Epoch 45/100\n",
      "5/5 [==============================] - 0s 40ms/step - loss: 0.2193 - accuracy: 0.9500 - val_loss: 0.3733 - val_accuracy: 0.8000\n",
      "Epoch 46/100\n",
      "5/5 [==============================] - 0s 45ms/step - loss: 0.2649 - accuracy: 0.9375 - val_loss: 0.3702 - val_accuracy: 0.8750\n",
      "Epoch 47/100\n",
      "5/5 [==============================] - 0s 36ms/step - loss: 0.2235 - accuracy: 0.9438 - val_loss: 0.3693 - val_accuracy: 0.8750\n",
      "Epoch 48/100\n",
      "5/5 [==============================] - 0s 37ms/step - loss: 0.2087 - accuracy: 0.9375 - val_loss: 0.3661 - val_accuracy: 0.8750\n",
      "Epoch 49/100\n",
      "5/5 [==============================] - 0s 38ms/step - loss: 0.2192 - accuracy: 0.9250 - val_loss: 0.4955 - val_accuracy: 0.7500\n",
      "Epoch 50/100\n",
      "5/5 [==============================] - 0s 37ms/step - loss: 0.2176 - accuracy: 0.9438 - val_loss: 0.4490 - val_accuracy: 0.8000\n",
      "Epoch 51/100\n",
      "5/5 [==============================] - 0s 40ms/step - loss: 0.2774 - accuracy: 0.8750 - val_loss: 0.4783 - val_accuracy: 0.7500\n",
      "Epoch 52/100\n",
      "5/5 [==============================] - 0s 37ms/step - loss: 0.3788 - accuracy: 0.8125 - val_loss: 0.3628 - val_accuracy: 0.9000\n",
      "Epoch 53/100\n",
      "5/5 [==============================] - 0s 34ms/step - loss: 0.1966 - accuracy: 0.9500 - val_loss: 0.3808 - val_accuracy: 0.8000\n",
      "Epoch 54/100\n",
      "5/5 [==============================] - 0s 38ms/step - loss: 0.1879 - accuracy: 0.9438 - val_loss: 0.3554 - val_accuracy: 0.8000\n",
      "Epoch 55/100\n",
      "5/5 [==============================] - 0s 38ms/step - loss: 0.1823 - accuracy: 0.9750 - val_loss: 0.3642 - val_accuracy: 0.7750\n",
      "Epoch 56/100\n",
      "5/5 [==============================] - 0s 42ms/step - loss: 0.1874 - accuracy: 0.9563 - val_loss: 0.3502 - val_accuracy: 0.8000\n",
      "Epoch 57/100\n",
      "5/5 [==============================] - 0s 37ms/step - loss: 0.1739 - accuracy: 0.9625 - val_loss: 0.3459 - val_accuracy: 0.8750\n",
      "Epoch 58/100\n",
      "5/5 [==============================] - 0s 35ms/step - loss: 0.1836 - accuracy: 0.9438 - val_loss: 0.3947 - val_accuracy: 0.8000\n",
      "Epoch 59/100\n",
      "5/5 [==============================] - 0s 38ms/step - loss: 0.2632 - accuracy: 0.8938 - val_loss: 0.4130 - val_accuracy: 0.8250\n",
      "Epoch 60/100\n",
      "5/5 [==============================] - 0s 41ms/step - loss: 0.1830 - accuracy: 0.9500 - val_loss: 0.3732 - val_accuracy: 0.8000\n",
      "Epoch 61/100\n",
      "5/5 [==============================] - 0s 35ms/step - loss: 0.1570 - accuracy: 0.9750 - val_loss: 0.4374 - val_accuracy: 0.7500\n",
      "Epoch 62/100\n",
      "5/5 [==============================] - 0s 37ms/step - loss: 0.1677 - accuracy: 0.9625 - val_loss: 0.3419 - val_accuracy: 0.7750\n",
      "Epoch 63/100\n",
      "5/5 [==============================] - 0s 39ms/step - loss: 0.2016 - accuracy: 0.9312 - val_loss: 0.4930 - val_accuracy: 0.7750\n",
      "Epoch 64/100\n",
      "5/5 [==============================] - 0s 35ms/step - loss: 0.1598 - accuracy: 0.9625 - val_loss: 0.3339 - val_accuracy: 0.8250\n",
      "Epoch 65/100\n",
      "5/5 [==============================] - 0s 37ms/step - loss: 0.1571 - accuracy: 0.9688 - val_loss: 0.3457 - val_accuracy: 0.8000\n",
      "Epoch 66/100\n",
      "5/5 [==============================] - 0s 36ms/step - loss: 0.1494 - accuracy: 0.9563 - val_loss: 0.3623 - val_accuracy: 0.8000\n",
      "Epoch 67/100\n",
      "5/5 [==============================] - 0s 35ms/step - loss: 0.1441 - accuracy: 0.9625 - val_loss: 0.3276 - val_accuracy: 0.8750\n",
      "Epoch 68/100\n",
      "5/5 [==============================] - 0s 37ms/step - loss: 0.1424 - accuracy: 0.9688 - val_loss: 0.3593 - val_accuracy: 0.9000\n",
      "Epoch 69/100\n",
      "5/5 [==============================] - 0s 35ms/step - loss: 0.1607 - accuracy: 0.9438 - val_loss: 0.3248 - val_accuracy: 0.8500\n",
      "Epoch 70/100\n",
      "5/5 [==============================] - 0s 37ms/step - loss: 0.1383 - accuracy: 0.9625 - val_loss: 0.3995 - val_accuracy: 0.8000\n",
      "Epoch 71/100\n",
      "5/5 [==============================] - 0s 37ms/step - loss: 0.2181 - accuracy: 0.8938 - val_loss: 0.3880 - val_accuracy: 0.8500\n",
      "Epoch 72/100\n",
      "5/5 [==============================] - 0s 34ms/step - loss: 0.6421 - accuracy: 0.7750 - val_loss: 0.3881 - val_accuracy: 0.8000\n",
      "Epoch 73/100\n",
      "5/5 [==============================] - 0s 33ms/step - loss: 0.2566 - accuracy: 0.8625 - val_loss: 0.3967 - val_accuracy: 0.8750\n",
      "Epoch 74/100\n",
      "5/5 [==============================] - 0s 37ms/step - loss: 0.1584 - accuracy: 0.9563 - val_loss: 0.3299 - val_accuracy: 0.8250\n",
      "Epoch 75/100\n",
      "5/5 [==============================] - 0s 34ms/step - loss: 0.1259 - accuracy: 0.9750 - val_loss: 0.3255 - val_accuracy: 0.8750\n",
      "Epoch 76/100\n",
      "5/5 [==============================] - 0s 39ms/step - loss: 0.1360 - accuracy: 0.9750 - val_loss: 0.4851 - val_accuracy: 0.8000\n",
      "Epoch 77/100\n",
      "5/5 [==============================] - 0s 38ms/step - loss: 0.2083 - accuracy: 0.9312 - val_loss: 0.5569 - val_accuracy: 0.8000\n",
      "Epoch 78/100\n",
      "5/5 [==============================] - 0s 35ms/step - loss: 0.2030 - accuracy: 0.9250 - val_loss: 0.5159 - val_accuracy: 0.8000\n",
      "Epoch 79/100\n",
      "5/5 [==============================] - 0s 39ms/step - loss: 0.4285 - accuracy: 0.7437 - val_loss: 0.5360 - val_accuracy: 0.7500\n",
      "Epoch 80/100\n",
      "5/5 [==============================] - 0s 39ms/step - loss: 0.1301 - accuracy: 0.9750 - val_loss: 0.3424 - val_accuracy: 0.9250\n",
      "Epoch 81/100\n",
      "5/5 [==============================] - 0s 38ms/step - loss: 0.1196 - accuracy: 0.9812 - val_loss: 0.3172 - val_accuracy: 0.8500\n",
      "Epoch 82/100\n",
      "5/5 [==============================] - 0s 37ms/step - loss: 0.1144 - accuracy: 0.9875 - val_loss: 0.3172 - val_accuracy: 0.8500\n",
      "Epoch 83/100\n",
      "5/5 [==============================] - 0s 38ms/step - loss: 0.1045 - accuracy: 0.9937 - val_loss: 0.3252 - val_accuracy: 0.9000\n",
      "Epoch 84/100\n",
      "5/5 [==============================] - 0s 38ms/step - loss: 0.1464 - accuracy: 0.9625 - val_loss: 0.4540 - val_accuracy: 0.7500\n",
      "Epoch 85/100\n",
      "5/5 [==============================] - 0s 41ms/step - loss: 0.1344 - accuracy: 0.9750 - val_loss: 0.3421 - val_accuracy: 0.8000\n",
      "Epoch 86/100\n",
      "5/5 [==============================] - 0s 36ms/step - loss: 0.3111 - accuracy: 0.8500 - val_loss: 0.8057 - val_accuracy: 0.6500\n",
      "Epoch 87/100\n",
      "5/5 [==============================] - 0s 38ms/step - loss: 0.2207 - accuracy: 0.9000 - val_loss: 0.3453 - val_accuracy: 0.8000\n",
      "Epoch 88/100\n",
      "5/5 [==============================] - 0s 36ms/step - loss: 0.1350 - accuracy: 0.9688 - val_loss: 0.3693 - val_accuracy: 0.8000\n",
      "Epoch 89/100\n",
      "5/5 [==============================] - 0s 38ms/step - loss: 0.0924 - accuracy: 0.9937 - val_loss: 0.3088 - val_accuracy: 0.8500\n",
      "Epoch 90/100\n",
      "5/5 [==============================] - 0s 35ms/step - loss: 0.0967 - accuracy: 0.9875 - val_loss: 0.3391 - val_accuracy: 0.8000\n",
      "Epoch 91/100\n",
      "5/5 [==============================] - 0s 45ms/step - loss: 0.1039 - accuracy: 0.9812 - val_loss: 0.3144 - val_accuracy: 0.8750\n",
      "Epoch 92/100\n",
      "5/5 [==============================] - 0s 34ms/step - loss: 0.0884 - accuracy: 0.9937 - val_loss: 0.3068 - val_accuracy: 0.8500\n",
      "Epoch 93/100\n",
      "5/5 [==============================] - 0s 36ms/step - loss: 0.0897 - accuracy: 0.9875 - val_loss: 0.3094 - val_accuracy: 0.8500\n",
      "Epoch 94/100\n",
      "5/5 [==============================] - 0s 40ms/step - loss: 0.0918 - accuracy: 0.9875 - val_loss: 0.3061 - val_accuracy: 0.9000\n",
      "Epoch 95/100\n",
      "5/5 [==============================] - 0s 38ms/step - loss: 0.1421 - accuracy: 0.9375 - val_loss: 0.3254 - val_accuracy: 0.8250\n",
      "Epoch 96/100\n",
      "5/5 [==============================] - 0s 38ms/step - loss: 0.0813 - accuracy: 1.0000 - val_loss: 0.3226 - val_accuracy: 0.8500\n",
      "Epoch 97/100\n",
      "5/5 [==============================] - 0s 41ms/step - loss: 0.0798 - accuracy: 0.9937 - val_loss: 0.3174 - val_accuracy: 0.9000\n",
      "Epoch 98/100\n",
      "5/5 [==============================] - 0s 39ms/step - loss: 0.0864 - accuracy: 0.9812 - val_loss: 0.3145 - val_accuracy: 0.8500\n",
      "Epoch 99/100\n",
      "5/5 [==============================] - 0s 38ms/step - loss: 0.0754 - accuracy: 1.0000 - val_loss: 0.3030 - val_accuracy: 0.8500\n",
      "Epoch 100/100\n",
      "5/5 [==============================] - 0s 37ms/step - loss: 0.0782 - accuracy: 1.0000 - val_loss: 0.3101 - val_accuracy: 0.8750\n"
     ]
    }
   ],
   "source": [
    "H = model.fit(x_train, y_train, validation_data=(x_test, y_test), \n",
    "          epochs=max_epochs, batch_size=32)"
   ]
  },
  {
   "cell_type": "code",
   "execution_count": 33,
   "metadata": {},
   "outputs": [
    {
     "data": {
      "image/png": "[encoded data removed]",
      "text/plain": [
       "<Figure size 432x288 with 1 Axes>"
      ]
     },
     "metadata": {},
     "output_type": "display_data"
    }
   ],
   "source": [
    "N = np.arange(0, max_epochs)\n",
    "plt.style.use(\"ggplot\")\n",
    "plt.figure()\n",
    "plt.plot(N, H.history[\"loss\"], label=\"train_loss\")\n",
    "plt.plot(N, H.history[\"val_loss\"], label=\"val_loss\")\n",
    "#plt.plot(N, H.history[\"accuracy\"], label=\"train_acc\")\n",
    "#plt.plot(N, H.history[\"val_accuracy\"], label=\"val_acc\")\n",
    "plt.xlabel(\"Epoch #\")\n",
    "plt.legend()\n",
    "plt.show()"
   ]
  },
  {
   "cell_type": "markdown",
   "metadata": {},
   "source": [
    "<h3>7. Evaluate the Model</h3>"
   ]
  },
  {
   "cell_type": "code",
   "execution_count": 34,
   "metadata": {},
   "outputs": [
    {
     "name": "stdout",
     "output_type": "stream",
     "text": [
      "              precision    recall  f1-score   support\n",
      "\n",
      "    elephant       0.90      0.86      0.88        21\n",
      "        lion       0.85      0.89      0.87        19\n",
      "\n",
      "    accuracy                           0.88        40\n",
      "   macro avg       0.88      0.88      0.87        40\n",
      "weighted avg       0.88      0.88      0.88        40\n",
      "\n"
     ]
    },
    {
     "name": "stderr",
     "output_type": "stream",
     "text": [
      "C:\\Users\\PC\\AppData\\Local\\Temp/ipykernel_3648/954476436.py:3: DeprecationWarning: `np.int` is a deprecated alias for the builtin `int`. To silence this warning, use `int` by itself. Doing this will not modify any behavior and is safe. When replacing `np.int`, you may wish to use e.g. `np.int64` or `np.int32` to specify the precision. If you wish to review your current use, check the release note link for additional information.\n",
      "Deprecated in NumPy 1.20; for more details and guidance: https://numpy.org/devdocs/release/1.20.0-notes.html#deprecations\n",
      "  target = (predictions > 0.5).astype(np.int)\n"
     ]
    }
   ],
   "source": [
    "# menghitung nilai akurasi model terhadap data test\n",
    "predictions = model.predict(x_test, batch_size=32)\n",
    "target = (predictions > 0.5).astype(np.int)\n",
    "print(classification_report(y_test, target, target_names=label_list))"
   ]
  },
  {
   "cell_type": "code",
   "execution_count": 35,
   "metadata": {},
   "outputs": [
    {
     "name": "stdout",
     "output_type": "stream",
     "text": [
      "[[0.5924572]]\n"
     ]
    }
   ],
   "source": [
    "# uji model menggunakan image lain\n",
    "queryPath = imagePaths+'query_lion.jpg'\n",
    "query = cv2.imread(queryPath)\n",
    "output = query.copy()\n",
    "query = cv2.resize(query, (32, 32))\n",
    "q = []\n",
    "q.append(query)\n",
    "q = np.array(q, dtype='float') / 255.0\n",
    "\n",
    "q_pred = model.predict(q)\n",
    "print(q_pred)"
   ]
  },
  {
   "cell_type": "code",
   "execution_count": 36,
   "metadata": {},
   "outputs": [
    {
     "ename": "error",
     "evalue": "OpenCV(4.5.4-dev) D:\\a\\opencv-python\\opencv-python\\opencv\\modules\\highgui\\src\\window_w32.cpp:1261: error: (-27:Null pointer) NULL window: 'Output' in function 'cvDestroyWindow'\n",
     "output_type": "error",
     "traceback": [
      "\u001b[1;31m---------------------------------------------------------------------------\u001b[0m",
      "\u001b[1;31merror\u001b[0m                                     Traceback (most recent call last)",
      "\u001b[1;32m~\\AppData\\Local\\Temp/ipykernel_3648/3588242759.py\u001b[0m in \u001b[0;36m<module>\u001b[1;34m\u001b[0m\n\u001b[0;32m      9\u001b[0m \u001b[0mcv2\u001b[0m\u001b[1;33m.\u001b[0m\u001b[0mimshow\u001b[0m\u001b[1;33m(\u001b[0m\u001b[1;34m'Output'\u001b[0m\u001b[1;33m,\u001b[0m \u001b[0moutput\u001b[0m\u001b[1;33m)\u001b[0m\u001b[1;33m\u001b[0m\u001b[1;33m\u001b[0m\u001b[0m\n\u001b[0;32m     10\u001b[0m \u001b[0mcv2\u001b[0m\u001b[1;33m.\u001b[0m\u001b[0mwaitKey\u001b[0m\u001b[1;33m(\u001b[0m\u001b[1;33m)\u001b[0m \u001b[1;31m# image tidak akan diclose,sebelum user menekan sembarang tombol\u001b[0m\u001b[1;33m\u001b[0m\u001b[1;33m\u001b[0m\u001b[0m\n\u001b[1;32m---> 11\u001b[1;33m \u001b[0mcv2\u001b[0m\u001b[1;33m.\u001b[0m\u001b[0mdestroyWindow\u001b[0m\u001b[1;33m(\u001b[0m\u001b[1;34m'Output'\u001b[0m\u001b[1;33m)\u001b[0m \u001b[1;31m# image akan diclose\u001b[0m\u001b[1;33m\u001b[0m\u001b[1;33m\u001b[0m\u001b[0m\n\u001b[0m",
      "\u001b[1;31merror\u001b[0m: OpenCV(4.5.4-dev) D:\\a\\opencv-python\\opencv-python\\opencv\\modules\\highgui\\src\\window_w32.cpp:1261: error: (-27:Null pointer) NULL window: 'Output' in function 'cvDestroyWindow'\n"
     ]
    }
   ],
   "source": [
    "if q_pred<=0.5 :\n",
    "    target = \"Elephant\"\n",
    "else :\n",
    "    target = \"Lion\"\n",
    "text = \"{}\".format(target)\n",
    "cv2.putText(output, text, (10, 30), cv2.FONT_HERSHEY_SIMPLEX, 0.7, (0, 0, 255), 2)\n",
    " \n",
    "# menampilkan output image\n",
    "cv2.imshow('Output', output)\n",
    "cv2.waitKey() # image tidak akan diclose,sebelum user menekan sembarang tombol\n",
    "cv2.destroyWindow('Output') # image akan diclose"
   ]
  },
  {
   "cell_type": "code",
   "execution_count": null,
   "metadata": {},
   "outputs": [],
   "source": []
  }
 ],
 "metadata": {
  "kernelspec": {
   "display_name": "Python 3",
   "language": "python",
   "name": "python3"
  },
  "language_info": {
   "codemirror_mode": {
    "name": "ipython",
    "version": 3
   },
   "file_extension": ".py",
   "mimetype": "text/x-python",
   "name": "python",
   "nbconvert_exporter": "python",
   "pygments_lexer": "ipython3",
   "version": "3.9.7"
  }
 },
 "nbformat": 4,
 "nbformat_minor": 4
}
