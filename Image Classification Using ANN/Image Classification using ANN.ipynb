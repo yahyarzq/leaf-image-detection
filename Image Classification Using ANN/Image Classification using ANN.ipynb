{
 "cells": [
  {
   "cell_type": "markdown",
   "metadata": {},
   "source": [
    "<h3>1. Import module yang dibutuhkan</h3>"
   ]
  },
  {
   "cell_type": "code",
   "execution_count": 1,
   "metadata": {},
   "outputs": [],
   "source": [
    "from sklearn.model_selection import train_test_split\n",
    "from sklearn.preprocessing import LabelEncoder\n",
    "from sklearn.metrics import classification_report\n",
    "from tensorflow.keras.models import Sequential\n",
    "from tensorflow.keras.layers import Flatten, Dense\n",
    "from tensorflow.keras.optimizers import SGD\n",
    "import numpy as np\n",
    "import cv2\n",
    "import glob\n",
    "import matplotlib.pyplot as plt"
   ]
  },
  {
   "cell_type": "markdown",
   "metadata": {},
   "source": [
    "<h3>2. Load Dataset</h3>"
   ]
  },
  {
   "cell_type": "code",
   "execution_count": 2,
   "metadata": {},
   "outputs": [],
   "source": [
    "imagePaths = 'Dataset\\\\Daun_400\\\\'\n",
    "label_list = ['Daun Jambu', 'Daun Nangka']\n",
    "data = []\n",
    "labels = []"
   ]
  },
  {
   "cell_type": "code",
   "execution_count": 3,
   "metadata": {},
   "outputs": [],
   "source": [
    "for label in label_list:\n",
    "    for imagePath in glob.glob(imagePaths+label+'\\\\*.jpg'):\n",
    "        #print(imagePath)\n",
    "        image = cv2.imread(imagePath)\n",
    "        image = cv2.resize(image, (32, 32))\n",
    "        data.append(image)\n",
    "        labels.append(label)"
   ]
  },
  {
   "cell_type": "code",
   "execution_count": 4,
   "metadata": {},
   "outputs": [
    {
     "data": {
      "text/plain": [
       "(100, 32, 32, 3)"
      ]
     },
     "execution_count": 4,
     "metadata": {},
     "output_type": "execute_result"
    }
   ],
   "source": [
    "np.array(data).shape"
   ]
  },
  {
   "cell_type": "markdown",
   "metadata": {},
   "source": [
    "<h3>3. Data Preprocessing</h3>"
   ]
  },
  {
   "cell_type": "code",
   "execution_count": 5,
   "metadata": {},
   "outputs": [],
   "source": [
    "# ubah type data dari list menjadi array\n",
    "# ubah nilai dari tiap pixel menjadi range [0..1]\n",
    "data = np.array(data, dtype='float') / 255.0\n",
    "labels = np.array(labels)"
   ]
  },
  {
   "cell_type": "code",
   "execution_count": 6,
   "metadata": {},
   "outputs": [
    {
     "name": "stdout",
     "output_type": "stream",
     "text": [
      "['Daun Jambu' 'Daun Jambu' 'Daun Jambu' 'Daun Jambu' 'Daun Jambu'\n",
      " 'Daun Jambu' 'Daun Jambu' 'Daun Jambu' 'Daun Jambu' 'Daun Jambu'\n",
      " 'Daun Jambu' 'Daun Jambu' 'Daun Jambu' 'Daun Jambu' 'Daun Jambu'\n",
      " 'Daun Jambu' 'Daun Jambu' 'Daun Jambu' 'Daun Jambu' 'Daun Jambu'\n",
      " 'Daun Jambu' 'Daun Jambu' 'Daun Jambu' 'Daun Jambu' 'Daun Jambu'\n",
      " 'Daun Jambu' 'Daun Jambu' 'Daun Jambu' 'Daun Jambu' 'Daun Jambu'\n",
      " 'Daun Jambu' 'Daun Jambu' 'Daun Jambu' 'Daun Jambu' 'Daun Jambu'\n",
      " 'Daun Jambu' 'Daun Jambu' 'Daun Jambu' 'Daun Jambu' 'Daun Jambu'\n",
      " 'Daun Jambu' 'Daun Jambu' 'Daun Jambu' 'Daun Jambu' 'Daun Jambu'\n",
      " 'Daun Jambu' 'Daun Jambu' 'Daun Jambu' 'Daun Jambu' 'Daun Jambu'\n",
      " 'Daun Nangka' 'Daun Nangka' 'Daun Nangka' 'Daun Nangka' 'Daun Nangka'\n",
      " 'Daun Nangka' 'Daun Nangka' 'Daun Nangka' 'Daun Nangka' 'Daun Nangka'\n",
      " 'Daun Nangka' 'Daun Nangka' 'Daun Nangka' 'Daun Nangka' 'Daun Nangka'\n",
      " 'Daun Nangka' 'Daun Nangka' 'Daun Nangka' 'Daun Nangka' 'Daun Nangka'\n",
      " 'Daun Nangka' 'Daun Nangka' 'Daun Nangka' 'Daun Nangka' 'Daun Nangka'\n",
      " 'Daun Nangka' 'Daun Nangka' 'Daun Nangka' 'Daun Nangka' 'Daun Nangka'\n",
      " 'Daun Nangka' 'Daun Nangka' 'Daun Nangka' 'Daun Nangka' 'Daun Nangka'\n",
      " 'Daun Nangka' 'Daun Nangka' 'Daun Nangka' 'Daun Nangka' 'Daun Nangka'\n",
      " 'Daun Nangka' 'Daun Nangka' 'Daun Nangka' 'Daun Nangka' 'Daun Nangka'\n",
      " 'Daun Nangka' 'Daun Nangka' 'Daun Nangka' 'Daun Nangka' 'Daun Nangka']\n"
     ]
    }
   ],
   "source": [
    "print(labels)"
   ]
  },
  {
   "cell_type": "code",
   "execution_count": 7,
   "metadata": {},
   "outputs": [
    {
     "name": "stdout",
     "output_type": "stream",
     "text": [
      "[0 0 0 0 0 0 0 0 0 0 0 0 0 0 0 0 0 0 0 0 0 0 0 0 0 0 0 0 0 0 0 0 0 0 0 0 0\n",
      " 0 0 0 0 0 0 0 0 0 0 0 0 0 1 1 1 1 1 1 1 1 1 1 1 1 1 1 1 1 1 1 1 1 1 1 1 1\n",
      " 1 1 1 1 1 1 1 1 1 1 1 1 1 1 1 1 1 1 1 1 1 1 1 1 1 1]\n"
     ]
    }
   ],
   "source": [
    "# ubah nilai dari labels menjadi binary\n",
    "lb = LabelEncoder()\n",
    "labels = lb.fit_transform(labels)\n",
    "print(labels)"
   ]
  },
  {
   "cell_type": "markdown",
   "metadata": {},
   "source": [
    "<h3>4. Split Dataset</h3>"
   ]
  },
  {
   "cell_type": "code",
   "execution_count": 8,
   "metadata": {},
   "outputs": [],
   "source": [
    "x_train, x_test, y_train, y_test = train_test_split(data, labels, test_size=0.2, random_state=42)"
   ]
  },
  {
   "cell_type": "code",
   "execution_count": 9,
   "metadata": {},
   "outputs": [
    {
     "name": "stdout",
     "output_type": "stream",
     "text": [
      "Ukuran data train = (80, 32, 32, 3)\n",
      "Ukuran data test = (20, 32, 32, 3)\n"
     ]
    }
   ],
   "source": [
    "print('Ukuran data train =', x_train.shape)\n",
    "print('Ukuran data test =', x_test.shape)"
   ]
  },
  {
   "cell_type": "markdown",
   "metadata": {},
   "source": [
    "<h3>5. Build ANN Architecture</h3>"
   ]
  },
  {
   "cell_type": "code",
   "execution_count": 10,
   "metadata": {},
   "outputs": [],
   "source": [
    "model = Sequential()\n",
    "model.add(Flatten(input_shape=(32,32,3)))\n",
    "model.add(Dense(1024, activation=\"relu\"))\n",
    "model.add(Dense(1024, activation=\"relu\"))\n",
    "model.add(Dense(1, activation=\"sigmoid\"))"
   ]
  },
  {
   "cell_type": "code",
   "execution_count": 11,
   "metadata": {},
   "outputs": [
    {
     "name": "stdout",
     "output_type": "stream",
     "text": [
      "Model: \"sequential\"\n",
      "_________________________________________________________________\n",
      " Layer (type)                Output Shape              Param #   \n",
      "=================================================================\n",
      " flatten (Flatten)           (None, 3072)              0         \n",
      "                                                                 \n",
      " dense (Dense)               (None, 1024)              3146752   \n",
      "                                                                 \n",
      " dense_1 (Dense)             (None, 1024)              1049600   \n",
      "                                                                 \n",
      " dense_2 (Dense)             (None, 1)                 1025      \n",
      "                                                                 \n",
      "=================================================================\n",
      "Total params: 4,197,377\n",
      "Trainable params: 4,197,377\n",
      "Non-trainable params: 0\n",
      "_________________________________________________________________\n"
     ]
    }
   ],
   "source": [
    "model.summary()"
   ]
  },
  {
   "cell_type": "code",
   "execution_count": 12,
   "metadata": {},
   "outputs": [],
   "source": [
    "# tentukan hyperparameter\n",
    "lr = 0.01\n",
    "max_epochs = 100\n",
    "opt_funct = SGD(learning_rate=lr)"
   ]
  },
  {
   "cell_type": "code",
   "execution_count": 13,
   "metadata": {},
   "outputs": [],
   "source": [
    "# compile arsitektur yang telah dibuat\n",
    "model.compile(loss = 'binary_crossentropy', \n",
    "              optimizer = opt_funct, \n",
    "              metrics = ['accuracy'])"
   ]
  },
  {
   "cell_type": "markdown",
   "metadata": {},
   "source": [
    "<h3>6. Train Model</h3>"
   ]
  },
  {
   "cell_type": "code",
   "execution_count": 14,
   "metadata": {},
   "outputs": [
    {
     "name": "stdout",
     "output_type": "stream",
     "text": [
      "Epoch 1/100\n",
      "3/3 [==============================] - 1s 169ms/step - loss: 0.8601 - accuracy: 0.4750 - val_loss: 1.8693 - val_accuracy: 0.4000\n",
      "Epoch 2/100\n",
      "3/3 [==============================] - 0s 56ms/step - loss: 1.7192 - accuracy: 0.3250 - val_loss: 0.6888 - val_accuracy: 0.6000\n",
      "Epoch 3/100\n",
      "3/3 [==============================] - 0s 56ms/step - loss: 0.7919 - accuracy: 0.4750 - val_loss: 0.6599 - val_accuracy: 0.6000\n",
      "Epoch 4/100\n",
      "3/3 [==============================] - 0s 46ms/step - loss: 0.7694 - accuracy: 0.4000 - val_loss: 0.7269 - val_accuracy: 0.4500\n",
      "Epoch 5/100\n",
      "3/3 [==============================] - 0s 53ms/step - loss: 0.6315 - accuracy: 0.6250 - val_loss: 0.8083 - val_accuracy: 0.4000\n",
      "Epoch 6/100\n",
      "3/3 [==============================] - 0s 48ms/step - loss: 0.6013 - accuracy: 0.6125 - val_loss: 0.6587 - val_accuracy: 0.6000\n",
      "Epoch 7/100\n",
      "3/3 [==============================] - 0s 48ms/step - loss: 0.5982 - accuracy: 0.7000 - val_loss: 0.7871 - val_accuracy: 0.4000\n",
      "Epoch 8/100\n",
      "3/3 [==============================] - 0s 42ms/step - loss: 0.6428 - accuracy: 0.5750 - val_loss: 0.7479 - val_accuracy: 0.4500\n",
      "Epoch 9/100\n",
      "3/3 [==============================] - 0s 45ms/step - loss: 0.5881 - accuracy: 0.6625 - val_loss: 0.7765 - val_accuracy: 0.4000\n",
      "Epoch 10/100\n",
      "3/3 [==============================] - 0s 51ms/step - loss: 0.5968 - accuracy: 0.6750 - val_loss: 1.0285 - val_accuracy: 0.4000\n",
      "Epoch 11/100\n",
      "3/3 [==============================] - 0s 53ms/step - loss: 0.6273 - accuracy: 0.7250 - val_loss: 0.7347 - val_accuracy: 0.4500\n",
      "Epoch 12/100\n",
      "3/3 [==============================] - 0s 41ms/step - loss: 0.5931 - accuracy: 0.7000 - val_loss: 0.6090 - val_accuracy: 0.7000\n",
      "Epoch 13/100\n",
      "3/3 [==============================] - 0s 54ms/step - loss: 0.5688 - accuracy: 0.7625 - val_loss: 0.6552 - val_accuracy: 0.6000\n",
      "Epoch 14/100\n",
      "3/3 [==============================] - 0s 53ms/step - loss: 0.5551 - accuracy: 0.7750 - val_loss: 0.6025 - val_accuracy: 0.7000\n",
      "Epoch 15/100\n",
      "3/3 [==============================] - 0s 67ms/step - loss: 0.5660 - accuracy: 0.6625 - val_loss: 0.8474 - val_accuracy: 0.6000\n",
      "Epoch 16/100\n",
      "3/3 [==============================] - 0s 52ms/step - loss: 0.8684 - accuracy: 0.4250 - val_loss: 0.8773 - val_accuracy: 0.4000\n",
      "Epoch 17/100\n",
      "3/3 [==============================] - 0s 51ms/step - loss: 0.7008 - accuracy: 0.4875 - val_loss: 0.6068 - val_accuracy: 0.7000\n",
      "Epoch 18/100\n",
      "3/3 [==============================] - 0s 43ms/step - loss: 0.5683 - accuracy: 0.8125 - val_loss: 0.7640 - val_accuracy: 0.6000\n",
      "Epoch 19/100\n",
      "3/3 [==============================] - 0s 42ms/step - loss: 0.6735 - accuracy: 0.6375 - val_loss: 0.6289 - val_accuracy: 0.6500\n",
      "Epoch 20/100\n",
      "3/3 [==============================] - 0s 50ms/step - loss: 0.5338 - accuracy: 0.8125 - val_loss: 0.6098 - val_accuracy: 0.6000\n",
      "Epoch 21/100\n",
      "3/3 [==============================] - 0s 40ms/step - loss: 0.5207 - accuracy: 0.7500 - val_loss: 0.5998 - val_accuracy: 0.7000\n",
      "Epoch 22/100\n",
      "3/3 [==============================] - 0s 50ms/step - loss: 0.5296 - accuracy: 0.7750 - val_loss: 0.5831 - val_accuracy: 0.7000\n",
      "Epoch 23/100\n",
      "3/3 [==============================] - 0s 42ms/step - loss: 0.5195 - accuracy: 0.7750 - val_loss: 0.6482 - val_accuracy: 0.6000\n",
      "Epoch 24/100\n",
      "3/3 [==============================] - 0s 52ms/step - loss: 0.7156 - accuracy: 0.5250 - val_loss: 0.5804 - val_accuracy: 0.7000\n",
      "Epoch 25/100\n",
      "3/3 [==============================] - 0s 49ms/step - loss: 0.5802 - accuracy: 0.7000 - val_loss: 0.8144 - val_accuracy: 0.4000\n",
      "Epoch 26/100\n",
      "3/3 [==============================] - 0s 45ms/step - loss: 0.5006 - accuracy: 0.7250 - val_loss: 0.5698 - val_accuracy: 0.7000\n",
      "Epoch 27/100\n",
      "3/3 [==============================] - 0s 49ms/step - loss: 0.5865 - accuracy: 0.6625 - val_loss: 0.6876 - val_accuracy: 0.5500\n",
      "Epoch 28/100\n",
      "3/3 [==============================] - 0s 47ms/step - loss: 0.5221 - accuracy: 0.7500 - val_loss: 0.5590 - val_accuracy: 0.8500\n",
      "Epoch 29/100\n",
      "3/3 [==============================] - 0s 51ms/step - loss: 0.5169 - accuracy: 0.7125 - val_loss: 0.6109 - val_accuracy: 0.6000\n",
      "Epoch 30/100\n",
      "3/3 [==============================] - 0s 50ms/step - loss: 0.5200 - accuracy: 0.7125 - val_loss: 0.5619 - val_accuracy: 0.8000\n",
      "Epoch 31/100\n",
      "3/3 [==============================] - 0s 52ms/step - loss: 0.4751 - accuracy: 0.8125 - val_loss: 0.5579 - val_accuracy: 0.8000\n",
      "Epoch 32/100\n",
      "3/3 [==============================] - 0s 49ms/step - loss: 0.4930 - accuracy: 0.8125 - val_loss: 0.7103 - val_accuracy: 0.6000\n",
      "Epoch 33/100\n",
      "3/3 [==============================] - 0s 51ms/step - loss: 0.6604 - accuracy: 0.5375 - val_loss: 0.6759 - val_accuracy: 0.5500\n",
      "Epoch 34/100\n",
      "3/3 [==============================] - 0s 47ms/step - loss: 0.5105 - accuracy: 0.7375 - val_loss: 0.6478 - val_accuracy: 0.6000\n",
      "Epoch 35/100\n",
      "3/3 [==============================] - 0s 46ms/step - loss: 0.6076 - accuracy: 0.5875 - val_loss: 0.6334 - val_accuracy: 0.6000\n",
      "Epoch 36/100\n",
      "3/3 [==============================] - 0s 49ms/step - loss: 0.4941 - accuracy: 0.7375 - val_loss: 0.5834 - val_accuracy: 0.5500\n",
      "Epoch 37/100\n",
      "3/3 [==============================] - 0s 50ms/step - loss: 0.4451 - accuracy: 0.8500 - val_loss: 0.5707 - val_accuracy: 0.6000\n",
      "Epoch 38/100\n",
      "3/3 [==============================] - 0s 49ms/step - loss: 0.4416 - accuracy: 0.8750 - val_loss: 0.8314 - val_accuracy: 0.4500\n",
      "Epoch 39/100\n",
      "3/3 [==============================] - 0s 52ms/step - loss: 0.5812 - accuracy: 0.6250 - val_loss: 0.5658 - val_accuracy: 0.6500\n",
      "Epoch 40/100\n",
      "3/3 [==============================] - 0s 57ms/step - loss: 0.5271 - accuracy: 0.6875 - val_loss: 0.8360 - val_accuracy: 0.4000\n",
      "Epoch 41/100\n",
      "3/3 [==============================] - 0s 51ms/step - loss: 0.4877 - accuracy: 0.7500 - val_loss: 0.5288 - val_accuracy: 0.8000\n",
      "Epoch 42/100\n",
      "3/3 [==============================] - 0s 54ms/step - loss: 0.4357 - accuracy: 0.8500 - val_loss: 0.5616 - val_accuracy: 0.6000\n",
      "Epoch 43/100\n",
      "3/3 [==============================] - 0s 53ms/step - loss: 0.4370 - accuracy: 0.8250 - val_loss: 0.6015 - val_accuracy: 0.6000\n",
      "Epoch 44/100\n",
      "3/3 [==============================] - 0s 49ms/step - loss: 0.5329 - accuracy: 0.7000 - val_loss: 0.8638 - val_accuracy: 0.6000\n",
      "Epoch 45/100\n",
      "3/3 [==============================] - 0s 53ms/step - loss: 0.7165 - accuracy: 0.6125 - val_loss: 0.6321 - val_accuracy: 0.6000\n",
      "Epoch 46/100\n",
      "3/3 [==============================] - 0s 57ms/step - loss: 0.4559 - accuracy: 0.8250 - val_loss: 0.5990 - val_accuracy: 0.6500\n",
      "Epoch 47/100\n",
      "3/3 [==============================] - 0s 51ms/step - loss: 0.5219 - accuracy: 0.6750 - val_loss: 0.5117 - val_accuracy: 0.8500\n",
      "Epoch 48/100\n",
      "3/3 [==============================] - 0s 47ms/step - loss: 0.5841 - accuracy: 0.6500 - val_loss: 0.7131 - val_accuracy: 0.4500\n",
      "Epoch 49/100\n",
      "3/3 [==============================] - 0s 51ms/step - loss: 0.5228 - accuracy: 0.6875 - val_loss: 0.6455 - val_accuracy: 0.6000\n",
      "Epoch 50/100\n",
      "3/3 [==============================] - 0s 53ms/step - loss: 0.5420 - accuracy: 0.6750 - val_loss: 1.2708 - val_accuracy: 0.4000\n",
      "Epoch 51/100\n",
      "3/3 [==============================] - 0s 52ms/step - loss: 0.5898 - accuracy: 0.7625 - val_loss: 0.6587 - val_accuracy: 0.5500\n",
      "Epoch 52/100\n",
      "3/3 [==============================] - 0s 54ms/step - loss: 0.4479 - accuracy: 0.7625 - val_loss: 0.4947 - val_accuracy: 0.9000\n",
      "Epoch 53/100\n",
      "3/3 [==============================] - 0s 45ms/step - loss: 0.4777 - accuracy: 0.7500 - val_loss: 1.1758 - val_accuracy: 0.4000\n",
      "Epoch 54/100\n",
      "3/3 [==============================] - 0s 56ms/step - loss: 0.4821 - accuracy: 0.8125 - val_loss: 0.5424 - val_accuracy: 0.6500\n",
      "Epoch 55/100\n",
      "3/3 [==============================] - 0s 44ms/step - loss: 0.4154 - accuracy: 0.8250 - val_loss: 0.4872 - val_accuracy: 0.8000\n",
      "Epoch 56/100\n",
      "3/3 [==============================] - 0s 46ms/step - loss: 0.4328 - accuracy: 0.7750 - val_loss: 0.4939 - val_accuracy: 0.8000\n",
      "Epoch 57/100\n",
      "3/3 [==============================] - 0s 42ms/step - loss: 0.6684 - accuracy: 0.5750 - val_loss: 0.6718 - val_accuracy: 0.5500\n",
      "Epoch 58/100\n",
      "3/3 [==============================] - 0s 45ms/step - loss: 0.3889 - accuracy: 0.8750 - val_loss: 0.4860 - val_accuracy: 0.8000\n",
      "Epoch 59/100\n",
      "3/3 [==============================] - 0s 49ms/step - loss: 0.3965 - accuracy: 0.8750 - val_loss: 0.5056 - val_accuracy: 0.7500\n",
      "Epoch 60/100\n",
      "3/3 [==============================] - 0s 48ms/step - loss: 0.3642 - accuracy: 0.9000 - val_loss: 0.4887 - val_accuracy: 0.7500\n",
      "Epoch 61/100\n",
      "3/3 [==============================] - 0s 43ms/step - loss: 0.3997 - accuracy: 0.8125 - val_loss: 0.4672 - val_accuracy: 0.9000\n",
      "Epoch 62/100\n",
      "3/3 [==============================] - 0s 52ms/step - loss: 0.4569 - accuracy: 0.7625 - val_loss: 1.0619 - val_accuracy: 0.4000\n",
      "Epoch 63/100\n",
      "3/3 [==============================] - 0s 47ms/step - loss: 0.4375 - accuracy: 0.7875 - val_loss: 1.1281 - val_accuracy: 0.4000\n",
      "Epoch 64/100\n",
      "3/3 [==============================] - 0s 45ms/step - loss: 0.7817 - accuracy: 0.4875 - val_loss: 0.4806 - val_accuracy: 0.8500\n",
      "Epoch 65/100\n",
      "3/3 [==============================] - 0s 52ms/step - loss: 0.4072 - accuracy: 0.8375 - val_loss: 0.6975 - val_accuracy: 0.5000\n",
      "Epoch 66/100\n",
      "3/3 [==============================] - 0s 53ms/step - loss: 0.3836 - accuracy: 0.8375 - val_loss: 0.4855 - val_accuracy: 0.8000\n",
      "Epoch 67/100\n",
      "3/3 [==============================] - 0s 53ms/step - loss: 0.3689 - accuracy: 0.8875 - val_loss: 0.4517 - val_accuracy: 0.9000\n",
      "Epoch 68/100\n",
      "3/3 [==============================] - 0s 44ms/step - loss: 0.3486 - accuracy: 0.8625 - val_loss: 0.4698 - val_accuracy: 0.8000\n",
      "Epoch 69/100\n",
      "3/3 [==============================] - 0s 52ms/step - loss: 0.6759 - accuracy: 0.6000 - val_loss: 0.5050 - val_accuracy: 0.8000\n",
      "Epoch 70/100\n",
      "3/3 [==============================] - 0s 52ms/step - loss: 0.3902 - accuracy: 0.8500 - val_loss: 0.4848 - val_accuracy: 0.7500\n",
      "Epoch 71/100\n",
      "3/3 [==============================] - 0s 52ms/step - loss: 0.4571 - accuracy: 0.7375 - val_loss: 0.4578 - val_accuracy: 0.8000\n",
      "Epoch 72/100\n",
      "3/3 [==============================] - 0s 52ms/step - loss: 0.3918 - accuracy: 0.8500 - val_loss: 0.8545 - val_accuracy: 0.4500\n",
      "Epoch 73/100\n",
      "3/3 [==============================] - 0s 48ms/step - loss: 0.6180 - accuracy: 0.5750 - val_loss: 0.4960 - val_accuracy: 0.7500\n",
      "Epoch 74/100\n",
      "3/3 [==============================] - 0s 54ms/step - loss: 0.4433 - accuracy: 0.8000 - val_loss: 0.9672 - val_accuracy: 0.4000\n",
      "Epoch 75/100\n",
      "3/3 [==============================] - 0s 43ms/step - loss: 0.4554 - accuracy: 0.7500 - val_loss: 0.4470 - val_accuracy: 0.8000\n",
      "Epoch 76/100\n",
      "3/3 [==============================] - 0s 53ms/step - loss: 0.3365 - accuracy: 0.9375 - val_loss: 0.8537 - val_accuracy: 0.4500\n",
      "Epoch 77/100\n",
      "3/3 [==============================] - 0s 50ms/step - loss: 0.6513 - accuracy: 0.5250 - val_loss: 0.5822 - val_accuracy: 0.6500\n",
      "Epoch 78/100\n",
      "3/3 [==============================] - 0s 49ms/step - loss: 0.7415 - accuracy: 0.5000 - val_loss: 0.5519 - val_accuracy: 0.6000\n",
      "Epoch 79/100\n",
      "3/3 [==============================] - 0s 47ms/step - loss: 0.3971 - accuracy: 0.8375 - val_loss: 0.5410 - val_accuracy: 0.6500\n",
      "Epoch 80/100\n",
      "3/3 [==============================] - 0s 47ms/step - loss: 0.4471 - accuracy: 0.7375 - val_loss: 0.4382 - val_accuracy: 0.8500\n",
      "Epoch 81/100\n",
      "3/3 [==============================] - 0s 50ms/step - loss: 0.3427 - accuracy: 0.9000 - val_loss: 0.5930 - val_accuracy: 0.6500\n",
      "Epoch 82/100\n",
      "3/3 [==============================] - 0s 41ms/step - loss: 0.4350 - accuracy: 0.7625 - val_loss: 0.5095 - val_accuracy: 0.6500\n",
      "Epoch 83/100\n",
      "3/3 [==============================] - 0s 52ms/step - loss: 0.3777 - accuracy: 0.8500 - val_loss: 0.5344 - val_accuracy: 0.6500\n",
      "Epoch 84/100\n",
      "3/3 [==============================] - 0s 55ms/step - loss: 0.4186 - accuracy: 0.8125 - val_loss: 0.4325 - val_accuracy: 0.8000\n",
      "Epoch 85/100\n",
      "3/3 [==============================] - 0s 52ms/step - loss: 0.2998 - accuracy: 0.9625 - val_loss: 0.6983 - val_accuracy: 0.5500\n",
      "Epoch 86/100\n",
      "3/3 [==============================] - 0s 43ms/step - loss: 0.3590 - accuracy: 0.8125 - val_loss: 0.5275 - val_accuracy: 0.6500\n",
      "Epoch 87/100\n",
      "3/3 [==============================] - 0s 52ms/step - loss: 0.5126 - accuracy: 0.6625 - val_loss: 0.5234 - val_accuracy: 0.6000\n",
      "Epoch 88/100\n",
      "3/3 [==============================] - 0s 50ms/step - loss: 0.3158 - accuracy: 0.9375 - val_loss: 0.4241 - val_accuracy: 0.8500\n",
      "Epoch 89/100\n",
      "3/3 [==============================] - 0s 53ms/step - loss: 0.5960 - accuracy: 0.6125 - val_loss: 1.0730 - val_accuracy: 0.4000\n",
      "Epoch 90/100\n",
      "3/3 [==============================] - 0s 52ms/step - loss: 0.7343 - accuracy: 0.5375 - val_loss: 0.5738 - val_accuracy: 0.6500\n",
      "Epoch 91/100\n",
      "3/3 [==============================] - 0s 44ms/step - loss: 0.4399 - accuracy: 0.8250 - val_loss: 0.7524 - val_accuracy: 0.5500\n",
      "Epoch 92/100\n",
      "3/3 [==============================] - 0s 54ms/step - loss: 0.4852 - accuracy: 0.7250 - val_loss: 0.4244 - val_accuracy: 0.9000\n",
      "Epoch 93/100\n",
      "3/3 [==============================] - 0s 53ms/step - loss: 0.3343 - accuracy: 0.9000 - val_loss: 0.4700 - val_accuracy: 0.8000\n",
      "Epoch 94/100\n",
      "3/3 [==============================] - 0s 48ms/step - loss: 0.4257 - accuracy: 0.7750 - val_loss: 0.4509 - val_accuracy: 0.8000\n",
      "Epoch 95/100\n",
      "3/3 [==============================] - 0s 53ms/step - loss: 0.3367 - accuracy: 0.8750 - val_loss: 0.5686 - val_accuracy: 0.6000\n",
      "Epoch 96/100\n",
      "3/3 [==============================] - 0s 44ms/step - loss: 0.3619 - accuracy: 0.8250 - val_loss: 0.3932 - val_accuracy: 0.9000\n",
      "Epoch 97/100\n",
      "3/3 [==============================] - 0s 52ms/step - loss: 0.6837 - accuracy: 0.6375 - val_loss: 0.6344 - val_accuracy: 0.5500\n",
      "Epoch 98/100\n",
      "3/3 [==============================] - 0s 51ms/step - loss: 0.4030 - accuracy: 0.8125 - val_loss: 0.4532 - val_accuracy: 0.8000\n",
      "Epoch 99/100\n",
      "3/3 [==============================] - 0s 50ms/step - loss: 0.4075 - accuracy: 0.8250 - val_loss: 0.4564 - val_accuracy: 0.8000\n",
      "Epoch 100/100\n",
      "3/3 [==============================] - 0s 53ms/step - loss: 0.2835 - accuracy: 0.9500 - val_loss: 0.4067 - val_accuracy: 0.8500\n"
     ]
    }
   ],
   "source": [
    "H = model.fit(x_train, y_train, validation_data=(x_test, y_test), \n",
    "          epochs=max_epochs, batch_size=32)"
   ]
  },
  {
   "cell_type": "code",
   "execution_count": 23,
   "metadata": {},
   "outputs": [
    {
     "data": {
      "image/png": "[encoded data removed]",
      "text/plain": [
       "<Figure size 432x288 with 1 Axes>"
      ]
     },
     "metadata": {},
     "output_type": "display_data"
    }
   ],
   "source": [
    "N = np.arange(0, max_epochs)\n",
    "plt.style.use(\"ggplot\")\n",
    "plt.figure()\n",
    "plt.plot(N, H.history[\"loss\"], label=\"train_loss\")\n",
    "plt.plot(N, H.history[\"val_loss\"], label=\"val_loss\")\n",
    "#plt.plot(N, H.history[\"accuracy\"], label=\"train_acc\")\n",
    "#plt.plot(N, H.history[\"val_accuracy\"], label=\"val_acc\")\n",
    "plt.xlabel(\"Epoch #\")\n",
    "plt.legend()\n",
    "plt.show()"
   ]
  },
  {
   "cell_type": "markdown",
   "metadata": {},
   "source": [
    "<h3>7. Evaluate the Model</h3>"
   ]
  },
  {
   "cell_type": "code",
   "execution_count": 16,
   "metadata": {},
   "outputs": [
    {
     "name": "stdout",
     "output_type": "stream",
     "text": [
      "              precision    recall  f1-score   support\n",
      "\n",
      "  Daun Jambu       0.80      1.00      0.89        12\n",
      " Daun Nangka       1.00      0.62      0.77         8\n",
      "\n",
      "    accuracy                           0.85        20\n",
      "   macro avg       0.90      0.81      0.83        20\n",
      "weighted avg       0.88      0.85      0.84        20\n",
      "\n"
     ]
    },
    {
     "name": "stderr",
     "output_type": "stream",
     "text": [
      "C:\\Users\\PC\\AppData\\Local\\Temp/ipykernel_13052/954476436.py:3: DeprecationWarning: `np.int` is a deprecated alias for the builtin `int`. To silence this warning, use `int` by itself. Doing this will not modify any behavior and is safe. When replacing `np.int`, you may wish to use e.g. `np.int64` or `np.int32` to specify the precision. If you wish to review your current use, check the release note link for additional information.\n",
      "Deprecated in NumPy 1.20; for more details and guidance: https://numpy.org/devdocs/release/1.20.0-notes.html#deprecations\n",
      "  target = (predictions > 0.5).astype(np.int)\n"
     ]
    }
   ],
   "source": [
    "# menghitung nilai akurasi model terhadap data test\n",
    "predictions = model.predict(x_test, batch_size=32)\n",
    "target = (predictions > 0.5).astype(np.int)\n",
    "print(classification_report(y_test, target, target_names=label_list))"
   ]
  },
  {
   "cell_type": "code",
   "execution_count": 22,
   "metadata": {},
   "outputs": [
    {
     "name": "stdout",
     "output_type": "stream",
     "text": [
      "[[0.6521698]]\n"
     ]
    }
   ],
   "source": [
    "# uji model menggunakan image lain\n",
    "queryPath = imagePaths+'nangka_tes.jpg'\n",
    "query = cv2.imread(queryPath)\n",
    "output = query.copy()\n",
    "query = cv2.resize(query, (32, 32))\n",
    "q = []\n",
    "q.append(query)\n",
    "q = np.array(q, dtype='float') / 255.0\n",
    "\n",
    "q_pred = model.predict(q)\n",
    "print(q_pred)"
   ]
  },
  {
   "cell_type": "code",
   "execution_count": 20,
   "metadata": {},
   "outputs": [
    {
     "ename": "error",
     "evalue": "OpenCV(4.5.4-dev) D:\\a\\opencv-python\\opencv-python\\opencv\\modules\\highgui\\src\\window_w32.cpp:1261: error: (-27:Null pointer) NULL window: 'Output' in function 'cvDestroyWindow'\n",
     "output_type": "error",
     "traceback": [
      "\u001b[1;31m---------------------------------------------------------------------------\u001b[0m",
      "\u001b[1;31merror\u001b[0m                                     Traceback (most recent call last)",
      "\u001b[1;32m~\\AppData\\Local\\Temp/ipykernel_13052/1034445749.py\u001b[0m in \u001b[0;36m<module>\u001b[1;34m\u001b[0m\n\u001b[0;32m      9\u001b[0m \u001b[0mcv2\u001b[0m\u001b[1;33m.\u001b[0m\u001b[0mimshow\u001b[0m\u001b[1;33m(\u001b[0m\u001b[1;34m'Output'\u001b[0m\u001b[1;33m,\u001b[0m \u001b[0moutput\u001b[0m\u001b[1;33m)\u001b[0m\u001b[1;33m\u001b[0m\u001b[1;33m\u001b[0m\u001b[0m\n\u001b[0;32m     10\u001b[0m \u001b[0mcv2\u001b[0m\u001b[1;33m.\u001b[0m\u001b[0mwaitKey\u001b[0m\u001b[1;33m(\u001b[0m\u001b[1;33m)\u001b[0m \u001b[1;31m# image tidak akan diclose,sebelum user menekan sembarang tombol\u001b[0m\u001b[1;33m\u001b[0m\u001b[1;33m\u001b[0m\u001b[0m\n\u001b[1;32m---> 11\u001b[1;33m \u001b[0mcv2\u001b[0m\u001b[1;33m.\u001b[0m\u001b[0mdestroyWindow\u001b[0m\u001b[1;33m(\u001b[0m\u001b[1;34m'Output'\u001b[0m\u001b[1;33m)\u001b[0m \u001b[1;31m# image akan diclose\u001b[0m\u001b[1;33m\u001b[0m\u001b[1;33m\u001b[0m\u001b[0m\n\u001b[0m",
      "\u001b[1;31merror\u001b[0m: OpenCV(4.5.4-dev) D:\\a\\opencv-python\\opencv-python\\opencv\\modules\\highgui\\src\\window_w32.cpp:1261: error: (-27:Null pointer) NULL window: 'Output' in function 'cvDestroyWindow'\n"
     ]
    }
   ],
   "source": [
    "if q_pred<=0.5 :\n",
    "    target = \"Jambu\"\n",
    "else :\n",
    "    target = \"Nangka\"\n",
    "text = \"{}\".format(target)\n",
    "cv2.putText(output, text, (10, 30), cv2.FONT_HERSHEY_SIMPLEX, 0.7, (0, 0, 255), 2)\n",
    " \n",
    "# menampilkan output image\n",
    "cv2.imshow('Output', output)\n",
    "cv2.waitKey() # image tidak akan diclose,sebelum user menekan sembarang tombol\n",
    "cv2.destroyWindow('Output') # image akan diclose"
   ]
  },
  {
   "cell_type": "code",
   "execution_count": null,
   "metadata": {},
   "outputs": [],
   "source": []
  }
 ],
 "metadata": {
  "kernelspec": {
   "display_name": "Python 3",
   "language": "python",
   "name": "python3"
  },
  "language_info": {
   "codemirror_mode": {
    "name": "ipython",
    "version": 3
   },
   "file_extension": ".py",
   "mimetype": "text/x-python",
   "name": "python",
   "nbconvert_exporter": "python",
   "pygments_lexer": "ipython3",
   "version": "3.9.7"
  }
 },
 "nbformat": 4,
 "nbformat_minor": 4
}
